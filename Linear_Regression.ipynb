{
 "cells": [
  {
   "cell_type": "markdown",
   "metadata": {
    "colab_type": "text",
    "id": "okA20Is3ZMyM"
   },
   "source": [
    "# Estimating the scores of student based on their total hours of study\n",
    "\n",
    "Dataset: Student hours vs scores dataset \n",
    "\n",
    "It involves predicting the scores(Y) of student based on their total of hours(X) of study.\n",
    "\n",
    "Student hours vs scores dataset"
   ]
  },
  {
   "cell_type": "markdown",
   "metadata": {
    "colab_type": "text",
    "id": "yxT5yD0BZMyN"
   },
   "source": [
    "###### Q1: Why you want to apply regression on selected dataset? Discuss full story behind dataset.\n",
    "\n",
    "Student hours vs scores dataset contains two columns (X,Y) as shown in code below. The X column represents the number of hours of study and the Y represents the total scores of student.. \n",
    "\n",
    "As dependent variable is continuous data regression is suitable model to use here.\n",
    "\n",
    "Also, it is expected that as the number of hours of study icreases, total scores will also increase.This is indicating application of linear regression.\n",
    "\n",
    "Using Simple Linear Regression it is possible to identify the relation between the number of hours study and the total scores. This relation can be stored and used for, to predict the total hours of study for a new scores. \n",
    "\n",
    "Source: https://www.hannesholst.com/blog/machine-learning/machine-learning-from-scratch-with-c-al/"
   ]
  },
  {
   "cell_type": "code",
   "execution_count": 0,
   "metadata": {
    "colab": {},
    "colab_type": "code",
    "id": "sNkKVlxUZMyO"
   },
   "outputs": [],
   "source": [
    "## Importing required packages\n",
    "import warnings\n",
    "warnings.filterwarnings('ignore')\n",
    "\n",
    "import numpy as np\n",
    "import pandas as pd\n",
    "from matplotlib import pyplot as plt\n",
    "from sklearn import linear_model\n",
    "from sklearn.metrics import mean_squared_error\n",
    "from math import sqrt\n",
    "from sklearn.metrics import r2_score"
   ]
  },
  {
   "cell_type": "code",
   "execution_count": 3,
   "metadata": {
    "colab": {
     "base_uri": "https://localhost:8080/",
     "height": 121
    },
    "colab_type": "code",
    "id": "nua6LSTlAUsD",
    "outputId": "9f212857-6ddb-419c-e562-78d2f584879e"
   },
   "outputs": [
    {
     "name": "stdout",
     "output_type": "stream",
     "text": [
      "Go to this URL in a browser: https://accounts.google.com/o/oauth2/auth?client_id=947318989803-6bn6qk8qdgf4n4g3pfee6491hc0brc4i.apps.googleusercontent.com&redirect_uri=urn%3aietf%3awg%3aoauth%3a2.0%3aoob&response_type=code&scope=email%20https%3a%2f%2fwww.googleapis.com%2fauth%2fdocs.test%20https%3a%2f%2fwww.googleapis.com%2fauth%2fdrive%20https%3a%2f%2fwww.googleapis.com%2fauth%2fdrive.photos.readonly%20https%3a%2f%2fwww.googleapis.com%2fauth%2fpeopleapi.readonly\n",
      "\n",
      "Enter your authorization code:\n",
      "··········\n",
      "Mounted at /content/drive\n"
     ]
    }
   ],
   "source": [
    "from google.colab import drive\n",
    "drive.mount('/content/drive')"
   ]
  },
  {
   "cell_type": "code",
   "execution_count": 4,
   "metadata": {
    "colab": {
     "base_uri": "https://localhost:8080/",
     "height": 195
    },
    "colab_type": "code",
    "id": "M8JSctOLAPZG",
    "outputId": "65b0a193-3094-4d60-a9f9-4695e405383d"
   },
   "outputs": [
    {
     "data": {
      "text/html": [
       "<div>\n",
       "<style scoped>\n",
       "    .dataframe tbody tr th:only-of-type {\n",
       "        vertical-align: middle;\n",
       "    }\n",
       "\n",
       "    .dataframe tbody tr th {\n",
       "        vertical-align: top;\n",
       "    }\n",
       "\n",
       "    .dataframe thead th {\n",
       "        text-align: right;\n",
       "    }\n",
       "</style>\n",
       "<table border=\"1\" class=\"dataframe\">\n",
       "  <thead>\n",
       "    <tr style=\"text-align: right;\">\n",
       "      <th></th>\n",
       "      <th>X</th>\n",
       "      <th>Y</th>\n",
       "    </tr>\n",
       "  </thead>\n",
       "  <tbody>\n",
       "    <tr>\n",
       "      <th>0</th>\n",
       "      <td>2.5</td>\n",
       "      <td>21</td>\n",
       "    </tr>\n",
       "    <tr>\n",
       "      <th>1</th>\n",
       "      <td>5.1</td>\n",
       "      <td>47</td>\n",
       "    </tr>\n",
       "    <tr>\n",
       "      <th>2</th>\n",
       "      <td>3.2</td>\n",
       "      <td>27</td>\n",
       "    </tr>\n",
       "    <tr>\n",
       "      <th>3</th>\n",
       "      <td>8.5</td>\n",
       "      <td>75</td>\n",
       "    </tr>\n",
       "    <tr>\n",
       "      <th>4</th>\n",
       "      <td>3.5</td>\n",
       "      <td>30</td>\n",
       "    </tr>\n",
       "  </tbody>\n",
       "</table>\n",
       "</div>"
      ],
      "text/plain": [
       "     X   Y\n",
       "0  2.5  21\n",
       "1  5.1  47\n",
       "2  3.2  27\n",
       "3  8.5  75\n",
       "4  3.5  30"
      ]
     },
     "execution_count": 4,
     "metadata": {
      "tags": []
     },
     "output_type": "execute_result"
    }
   ],
   "source": [
    "## Import data\n",
    "data = pd.read_csv('/content/drive/My Drive/Colab Notebooks/student_scores.csv')\n",
    "\n",
    "## let's see what's there in data\n",
    "data.head()"
   ]
  },
  {
   "cell_type": "markdown",
   "metadata": {
    "colab_type": "text",
    "id": "_o6b83ejZMya"
   },
   "source": [
    "###### Q2: How many total observations in data?\n",
    "\n",
    "There are total 25 observations in data from code below.\n",
    "\n",
    "###### Q3: How many independent variables?\n",
    "There are total two columns out of which one is dependent and one is independent. Here, X is independent variable which indicates total number of hours of study.\n",
    "\n",
    "###### Q4: Which is dependent variable?\n",
    "Y is dependent variable which is indicating total score of student in specific subhect."
   ]
  },
  {
   "cell_type": "code",
   "execution_count": 6,
   "metadata": {
    "colab": {
     "base_uri": "https://localhost:8080/",
     "height": 34
    },
    "colab_type": "code",
    "id": "D1HIcjndZMyb",
    "outputId": "64060e55-df8e-4fab-fb61-3e02bc2b4ce9"
   },
   "outputs": [
    {
     "data": {
      "text/plain": [
       "(25, 2)"
      ]
     },
     "execution_count": 6,
     "metadata": {
      "tags": []
     },
     "output_type": "execute_result"
    }
   ],
   "source": [
    "## Shape will give us dimentions of data\n",
    "## here this data is two dimentional and has 63 rows, two columns\n",
    "data.shape"
   ]
  },
  {
   "cell_type": "markdown",
   "metadata": {
    "colab_type": "text",
    "id": "3YQTKNkFZMyf"
   },
   "source": [
    "###### Q5: Which are most useful variable in estimation? Prove using correlation.\n",
    "\n",
    "Here, data has only one independent variable which has linear correlation with independent variable. This can be visulized using Scatter plot below.\n",
    "\n",
    "Understanding: Correlation is a statistical technique that can show whether and how strongly pairs of variables are related. For example, height and weight are related; taller people tend to be heavier than shorter people.\n",
    "Source: https://www.surveysystem.com/correlation.htm\n",
    "\n",
    "If there are more than one independent variable, not all independent variables contributes equally in estimation of dependent variable. This can be quatified using correlation between dependent and independent variable.\n",
    "\n",
    "corr function in sklearn can be used to find correlation between variables. \n",
    "We can find correlation of each independent variable with dependent vatiable using loop, store them in a list/dataframe, sort them and finally decide which varible to use in delveloping model."
   ]
  },
  {
   "cell_type": "code",
   "execution_count": 7,
   "metadata": {
    "colab": {
     "base_uri": "https://localhost:8080/",
     "height": 77
    },
    "colab_type": "code",
    "id": "WJtjS1hIZMyf",
    "outputId": "2b1dbf30-fe62-454e-ed96-e8d2739d8583"
   },
   "outputs": [
    {
     "data": {
      "text/html": [
       "<div>\n",
       "<style scoped>\n",
       "    .dataframe tbody tr th:only-of-type {\n",
       "        vertical-align: middle;\n",
       "    }\n",
       "\n",
       "    .dataframe tbody tr th {\n",
       "        vertical-align: top;\n",
       "    }\n",
       "\n",
       "    .dataframe thead th {\n",
       "        text-align: right;\n",
       "    }\n",
       "</style>\n",
       "<table border=\"1\" class=\"dataframe\">\n",
       "  <thead>\n",
       "    <tr style=\"text-align: right;\">\n",
       "      <th></th>\n",
       "      <th>Y</th>\n",
       "    </tr>\n",
       "  </thead>\n",
       "  <tbody>\n",
       "    <tr>\n",
       "      <th>X</th>\n",
       "      <td>0.976191</td>\n",
       "    </tr>\n",
       "  </tbody>\n",
       "</table>\n",
       "</div>"
      ],
      "text/plain": [
       "          Y\n",
       "X  0.976191"
      ]
     },
     "execution_count": 7,
     "metadata": {
      "tags": []
     },
     "output_type": "execute_result"
    }
   ],
   "source": [
    "## Using corr to find correlation between x and y\n",
    "\n",
    "d = data.corr()\n",
    "d.iloc[0:1,1:]"
   ]
  },
  {
   "cell_type": "code",
   "execution_count": 8,
   "metadata": {
    "colab": {
     "base_uri": "https://localhost:8080/",
     "height": 265
    },
    "colab_type": "code",
    "id": "J4cCub7vZMyl",
    "outputId": "363bc129-2ee0-4c58-ee3a-2e9ff067e06b"
   },
   "outputs": [
    {
     "data": {
      "image/png": "[encoded data removed]",
      "text/plain": [
       "<Figure size 432x288 with 1 Axes>"
      ]
     },
     "metadata": {
      "needs_background": "light",
      "tags": []
     },
     "output_type": "display_data"
    }
   ],
   "source": [
    "## Correlation chart: Scatterplot can be used to visulize correlation between two variables\n",
    "\n",
    "plt.scatter(data.X, data.Y)\n",
    "plt.show()"
   ]
  },
  {
   "cell_type": "markdown",
   "metadata": {
    "colab_type": "text",
    "id": "Z6wqff1bZMyp"
   },
   "source": [
    "## Linear regression basics"
   ]
  },
  {
   "cell_type": "markdown",
   "metadata": {
    "colab_type": "text",
    "id": "_nSFns3NZMyq"
   },
   "source": [
    "** Linear Regression is a method used to define a relationship between a dependent variable (Y) and independent variable (X). Which is simply written as : **\n",
    "<img src = \"y=mx+b.png\" height = 200 width = \"300\"/>\n",
    "\n",
    "*Where y is the dependent variable, m is the scale factor or coefficient, b being the bias coefficient and X being the independent variable.*\n",
    "\n",
    "Following two methods will be used here to find m slope and intercept b.\n",
    "\n",
    "### Least Squares\n",
    "    The method of Least Squares minimizes the sum of the squares of the residuals between the observed targets in the dataset, and the targets predicted by the linear approximation.\n",
    "    \n",
    "    In this method followng formula is used to find slope m and intercept c.\n",
    "\n",
    "<img src = \"leastSquares.PNG\" height = 200 width = \"300\"/>\n",
    "    \n",
    "    - x_bar is sum of x values\n",
    "    - y_bar is sum of y values\n",
    "    \n",
    "<b> Note: For python code refer following code. </b>\n",
    "\n",
    "### Gradient Descent\n",
    "    This method can be considered universal learning method in the field of machine leanring. It is simple start at randon and gradually reduce error. Following image visulizes method of gradient descent.\n",
    "    \n",
    "    <img src = \"linear_regression.gif\" height = 400 width = \"600\"/>\n",
    "    Wikipedia: https://en.wikipedia.org/wiki/Linear_regression\n",
    "    \n",
    "    This can be done by updating values of slope and intercept iteratively.\n",
    "    \n",
    "##### Details of Gradient Descent    \n",
    "    \n",
    "We will take m=0 and b=0 as initial values which is just horizontal line. \n",
    "\n",
    "Our challenge is to determine the value of optimum values of m and c, such that the line corresponding to those values is the best fitting line or gives the minimum error.\n",
    "\n",
    "Error in current values of m and b is called loss function. It means that we need to optimize loss function to reduce error in m and b.\n",
    "\n",
    "Our loss function will be the Root Mean Squared Error function to calculate the loss and is given by following equation.\n",
    "\n",
    "<img src = \"meansqurederror.jpeg\" height = \"50\" />\n",
    "\n",
    "Here yᵢ is the actual value and ȳᵢ is the predicted value. \n",
    "\n",
    "Lets substitute the value of ȳᵢ:\n",
    "\n",
    "<img src = \"meansqurederrorsub.jpeg\" height = 100/>\n",
    "\n",
    "Here, we have mean of squred error, hence the name Mean Squared Error. \n",
    "\n",
    "Now, let's understand how to optimize values of m and b.\n",
    "\n",
    "#### Gradient descent\n",
    "We will optimize m and b using Gradient descent. It is an iterative optimization algorithm to find the minimum of a function. \n",
    "\n",
    "Imagine a valley and a person as in following image.\n",
    "\n",
    "<img src = \"gd.jpeg\" width = \"500\" />\n",
    "\n",
    "A person has no sense of direction who wants to get to the bottom of the valley. He goes down the slope and takes large steps when the slope is steep and small steps when the slope is less steep. He decides his next position based on his current position and stops when he gets to the bottom of the valley which was his goal.\n",
    "\n",
    "Let’s try applying gradient descent to m and c and approach it step by step:\n",
    "\n",
    "1. Initially let m = 0 and c = 0. Let L be our learning rate. This controls how much the value of m changes with each step. L could be a small value like 0.0001 for good accuracy.\n",
    "\n",
    "We will define these all as below.\n",
    "\n",
    "m = 0\n",
    "\n",
    "b = 0\n",
    "\n",
    "learning_rate = 0.01\n",
    "\n",
    "2. Calculate the partial derivative of the loss function with respect to m, and plug in the current values of x, y, m and c in it to obtain the derivative value D. As it is in following equation.\n",
    "\n",
    "<img src = \"dm.jpeg\" />\n",
    "\n",
    "This can be written in code as,\n",
    "\n",
    "D_m = (-2/n) * sum(X * (Y - Y_pred))\n",
    "\n",
    "3. Similarly lets find the partial derivative with respect to c, Dc :\n",
    "\n",
    "<img src = \"dc.jpeg\" />\n",
    "\n",
    "and code for dc is given below,\n",
    "\n",
    "D_c = (-2/n) * sum(Y - Y_pred)\n",
    "\n",
    "4. Now we update the current value of m and c using the following equation:\n",
    "<img src = \"mc.jpeg\" />\n",
    "\n",
    "m = m - L * D_m  # Update m\n",
    "\n",
    "c = c - L * D_c  # Update c\n",
    "\n",
    "5. We repeat this process until our loss function is a very small value or ideally 0 (which means 0 error or 100% accuracy). The value of m and c that we are left with now will be the optimum values.\n",
    "\n",
    "Practically we will repeat this process for 1000 time which is defined as,\n",
    "\n",
    "epochs = 1000 \n",
    "_________________________________________________________\n",
    "\n",
    "Now going back to our analogy, m can be considered the current position of the person. D is equivalent to the steepness of the slope and L can be the speed with which he moves. Now the new value of m that we calculate using the above equation will be his next position, and L×D will be the size of the steps he will take. When the slope is more steep (D is more) he takes longer steps and when it is less steep (D is less), he takes smaller steps. Finally he arrives at the bottom of the valley which corresponds to our loss = 0.\n",
    "Now with the optimum value of m and c our model is ready to make predictions !\n"
   ]
  },
  {
   "cell_type": "markdown",
   "metadata": {
    "colab_type": "text",
    "id": "GcJS5mg-ZMyq"
   },
   "source": [
    "# Implementation of linear regression using OLS"
   ]
  },
  {
   "cell_type": "code",
   "execution_count": 9,
   "metadata": {
    "colab": {
     "base_uri": "https://localhost:8080/",
     "height": 50
    },
    "colab_type": "code",
    "id": "74Gu-QrZZMyr",
    "outputId": "30b93b75-e8e0-45b8-dbdf-214c370fe21e"
   },
   "outputs": [
    {
     "name": "stdout",
     "output_type": "stream",
     "text": [
      "5.012 51.48\n",
      "9.775803390787473 2.4836734053731817\n"
     ]
    }
   ],
   "source": [
    "df = data\n",
    "x_bar = df.X.sum()/df.X.count()\n",
    "y_bar = df.Y.sum()/df.Y.count()\n",
    "print(x_bar,y_bar)\n",
    "\n",
    "n = ((df.X-x_bar) * (df.Y-y_bar)).sum()\n",
    "d = ((df.X-x_bar)**2).sum()\n",
    "m = n/d\n",
    "b = y_bar - m* x_bar\n",
    "print(m, b)"
   ]
  },
  {
   "cell_type": "markdown",
   "metadata": {
    "colab_type": "text",
    "id": "NI25I06lZMyw"
   },
   "source": [
    "##### Plotting the line along data"
   ]
  },
  {
   "cell_type": "code",
   "execution_count": 11,
   "metadata": {
    "colab": {
     "base_uri": "https://localhost:8080/",
     "height": 295
    },
    "colab_type": "code",
    "id": "rheJinXrZMyw",
    "outputId": "9358cc37-8f8d-4167-a162-672f1db4ffd9"
   },
   "outputs": [
    {
     "data": {
      "image/png": "[encoded data removed]",
      "text/plain": [
       "<Figure size 432x288 with 1 Axes>"
      ]
     },
     "metadata": {
      "needs_background": "light",
      "tags": []
     },
     "output_type": "display_data"
    }
   ],
   "source": [
    "predicted_df = pd.DataFrame(data = range(0,int(df.X.max())), columns={'X'})\n",
    "predicted_df['Y'] = predicted_df.X*m + (b)\n",
    "\n",
    "x = predicted_df['X']\n",
    "y = predicted_df['Y']\n",
    "\n",
    "plt.plot(x,y,c='black')\n",
    "plt.scatter(df.X, df.Y)\n",
    "plt.xlabel('X')\n",
    "plt.ylabel('Y')\n",
    "plt.title('Plot for Regression line fit')\n",
    "#plt.legend()\n",
    "plt.show()\n",
    "#n = (X - x_bar)  * (Y - y_bar)"
   ]
  },
  {
   "cell_type": "markdown",
   "metadata": {
    "colab_type": "text",
    "id": "NveJFJYFZMy0"
   },
   "source": [
    "###### Q6: Quantify goodness of your model and discuss steps taken for improvement (RMSE, SSE, R2Score).\n",
    "\n",
    "1. In sklearn mean_squared_error function can be used to find RMSE, SSE\n",
    "\n",
    "    RMSE = square root of (mean_squared_error)\n",
    "    \n",
    "    SSE  = mean_squared_error * total Number of observations\n",
    "    \n",
    "2. In sklearn r2_score function is available to find r2_score\n"
   ]
  },
  {
   "cell_type": "code",
   "execution_count": 12,
   "metadata": {
    "colab": {
     "base_uri": "https://localhost:8080/",
     "height": 67
    },
    "colab_type": "code",
    "id": "3PyaJzUsZMy1",
    "outputId": "1e2c83fa-0cc1-4488-a0f3-d962f4ca6913"
   },
   "outputs": [
    {
     "name": "stdout",
     "output_type": "stream",
     "text": [
      "RMSE =  5.374265578592619\n",
      "SSE =  722.0682627311365\n",
      "r2score=  0.9529481969048356\n"
     ]
    }
   ],
   "source": [
    "RMSE = sqrt(mean_squared_error(df.Y, m*df.X+b))\n",
    "SSE  = mean_squared_error(df.Y, m*df.X+b) * len(df.Y)\n",
    "r2   = r2_score(df.Y, m*df.X+b)\n",
    "print(\"RMSE = \", RMSE)\n",
    "print(\"SSE = \", SSE)\n",
    "print(\"r2score= \", r2)"
   ]
  },
  {
   "cell_type": "markdown",
   "metadata": {
    "colab_type": "text",
    "id": "yjy9HmTDZMy6"
   },
   "source": [
    "# Implementation of linear regression using Gradient Descent"
   ]
  },
  {
   "cell_type": "code",
   "execution_count": 13,
   "metadata": {
    "colab": {
     "base_uri": "https://localhost:8080/",
     "height": 34
    },
    "colab_type": "code",
    "id": "dWzyjDkDZMy6",
    "outputId": "27a041eb-1514-4532-9b83-aec68a3db3b5"
   },
   "outputs": [
    {
     "name": "stdout",
     "output_type": "stream",
     "text": [
      "4.694229248980386 0.7611763297928752\n"
     ]
    }
   ],
   "source": [
    "# Select Data\n",
    "\n",
    "X = df.iloc[:, 0]\n",
    "Y = df.iloc[:, 1]\n",
    "\n",
    "m = 0\n",
    "c = 0\n",
    "\n",
    "L      = 0.00001  # The learning Rate\n",
    "epochs = 1000  # The number of iterations to perform gradient descent\n",
    "\n",
    "n = float(len(X)) # Number of elements in X\n",
    "\n",
    "# Performing Gradient Descent \n",
    "for i in range(epochs): \n",
    "    Y_pred = m*X + c  # The current predicted value of Y\n",
    "    D_m = (-2/n) * sum(X * (Y - Y_pred))  # Derivative wrt m\n",
    "    D_c = (-2/n) * sum(Y - Y_pred)  # Derivative wrt c\n",
    "    m = m - L * D_m  # Update m\n",
    "    c = c - L * D_c  # Update c\n",
    "print (m, c)"
   ]
  },
  {
   "cell_type": "markdown",
   "metadata": {
    "colab_type": "text",
    "id": "Z_639AkRZMy_"
   },
   "source": [
    "###### Q6: Quantify goodness of your model and discuss steps taken for improvement (RMSE, SSE, R2Score)."
   ]
  },
  {
   "cell_type": "code",
   "execution_count": 14,
   "metadata": {
    "colab": {
     "base_uri": "https://localhost:8080/",
     "height": 67
    },
    "colab_type": "code",
    "id": "Z_ysH7LzZMy_",
    "outputId": "f61d353d-7ec8-4925-f59e-5dbbd82f1404"
   },
   "outputs": [
    {
     "name": "stdout",
     "output_type": "stream",
     "text": [
      "RMSE =  28.906839344442265\n",
      "SSE =  20890.134022134884\n",
      "r2score=  -0.3612542239750509\n"
     ]
    }
   ],
   "source": [
    "RMSE = sqrt(mean_squared_error(df.Y, m*df.X+b))\n",
    "SSE  = mean_squared_error(df.Y, m*df.X+b) * len(df.Y)\n",
    "r2   = r2_score(df.Y, m*df.X+b)\n",
    "print(\"RMSE = \", RMSE)\n",
    "print(\"SSE = \", SSE)\n",
    "print(\"r2score= \", r2)"
   ]
  },
  {
   "cell_type": "markdown",
   "metadata": {
    "colab_type": "text",
    "id": "2g0T_vETZMzD"
   },
   "source": [
    "# Implementation of linear regression Using sklearn API"
   ]
  },
  {
   "cell_type": "code",
   "execution_count": 15,
   "metadata": {
    "colab": {
     "base_uri": "https://localhost:8080/",
     "height": 34
    },
    "colab_type": "code",
    "id": "Jan6EPfYZMzD",
    "outputId": "c4d045df-716e-4b18-a439-17f704f332d9"
   },
   "outputs": [
    {
     "data": {
      "text/plain": [
       "LinearRegression(copy_X=True, fit_intercept=True, n_jobs=None, normalize=False)"
      ]
     },
     "execution_count": 15,
     "metadata": {
      "tags": []
     },
     "output_type": "execute_result"
    }
   ],
   "source": [
    "# Select Data\n",
    "X = pd.DataFrame(df.X)\n",
    "Y = df.Y\n",
    "\n",
    "# Create object of algorithm\n",
    "rg = linear_model.LinearRegression()\n",
    "# Create model by fitting data\n",
    "rg.fit(X, Y)\n"
   ]
  },
  {
   "cell_type": "markdown",
   "metadata": {
    "colab_type": "text",
    "id": "lJJsl0SyZMzH"
   },
   "source": [
    "###### Q6: Quantify goodness of your model and discuss steps taken for improvement (RMSE, SSE, R2Score)."
   ]
  },
  {
   "cell_type": "code",
   "execution_count": 16,
   "metadata": {
    "colab": {
     "base_uri": "https://localhost:8080/",
     "height": 67
    },
    "colab_type": "code",
    "id": "Pk0FAMtHZMzH",
    "outputId": "0d08e65c-e4f4-417f-90e4-bc657bec13ee"
   },
   "outputs": [
    {
     "name": "stdout",
     "output_type": "stream",
     "text": [
      "RMSE =  28.906839344442265\n",
      "SSE =  20890.134022134884\n",
      "r2score=  -0.3612542239750509\n"
     ]
    }
   ],
   "source": [
    "RMSE = sqrt(mean_squared_error(df.Y, m*df.X+b))\n",
    "SSE  = mean_squared_error(df.Y, m*df.X+b) * len(df.Y)\n",
    "r2   = r2_score(df.Y, m*df.X+b)\n",
    "print(\"RMSE = \", RMSE)\n",
    "print(\"SSE = \", SSE)\n",
    "print(\"r2score= \", r2)"
   ]
  },
  {
   "cell_type": "markdown",
   "metadata": {
    "colab_type": "text",
    "id": "qPbE1W0xZMzM"
   },
   "source": [
    "### Plot data with Regression Line"
   ]
  },
  {
   "cell_type": "code",
   "execution_count": 18,
   "metadata": {
    "colab": {
     "base_uri": "https://localhost:8080/",
     "height": 295
    },
    "colab_type": "code",
    "id": "9hYnisuFZMzN",
    "outputId": "5038d84f-b265-425a-af29-11688f24110b"
   },
   "outputs": [
    {
     "data": {
      "image/png": "[encoded data removed]",
      "text/plain": [
       "<Figure size 432x288 with 1 Axes>"
      ]
     },
     "metadata": {
      "needs_background": "light",
      "tags": []
     },
     "output_type": "display_data"
    }
   ],
   "source": [
    "x = range(0,int(X.max()))\n",
    "y = x*rg.coef_\n",
    "\n",
    "#fig, ax = plt.subplots(figsize=(12,6))\n",
    "\n",
    "plt.plot(x,y,c='black')\n",
    "plt.scatter(df.X, df.Y)\n",
    "plt.xlabel('X')\n",
    "plt.ylabel('Y')\n",
    "plt.title('Plot for Regression line fit on Train and Test data')\n",
    "#plt.legend()\n",
    "plt.show()"
   ]
  }
 ],
 "metadata": {
  "anaconda-cloud": {},
  "colab": {
   "collapsed_sections": [],
   "name": "Linear Regression.ipynb",
   "provenance": [],
   "toc_visible": true
  },
  "kernelspec": {
   "display_name": "Python 3",
   "language": "python",
   "name": "python3"
  },
  "language_info": {
   "codemirror_mode": {
    "name": "ipython",
    "version": 3
   },
   "file_extension": ".py",
   "mimetype": "text/x-python",
   "name": "python",
   "nbconvert_exporter": "python",
   "pygments_lexer": "ipython3",
   "version": "3.8.2"
  }
 },
 "nbformat": 4,
 "nbformat_minor": 1
}
